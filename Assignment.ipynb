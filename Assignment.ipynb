{
 "cells": [
  {
   "cell_type": "markdown",
   "id": "93e02449-5c6b-417a-a143-da7f26503200",
   "metadata": {},
   "source": [
    "The Basics"
   ]
  },
  {
   "cell_type": "markdown",
   "id": "bcf80f53-b9c0-4dfd-8096-699c35f01384",
   "metadata": {},
   "source": [
    "Calculate 2+3"
   ]
  },
  {
   "cell_type": "code",
   "execution_count": 2,
   "id": "5cfcfaa8-ca4c-4bf6-af5e-9b9adabf6251",
   "metadata": {},
   "outputs": [
    {
     "data": {
      "text/plain": [
       "5\n"
      ]
     },
     "execution_count": 2,
     "metadata": {},
     "output_type": "execute_result"
    }
   ],
   "source": [
    "2+3"
   ]
  },
  {
   "cell_type": "markdown",
   "id": "9b5dc4ac-f854-48af-87aa-b0428835d64c",
   "metadata": {},
   "source": [
    "Calculate 2*10+3"
   ]
  },
  {
   "cell_type": "code",
   "execution_count": 3,
   "id": "5eba870e-ec60-4164-910f-7c551b1da4fb",
   "metadata": {},
   "outputs": [
    {
     "data": {
      "text/plain": [
       "23\n"
      ]
     },
     "execution_count": 3,
     "metadata": {},
     "output_type": "execute_result"
    }
   ],
   "source": [
    "(2*10)+3"
   ]
  },
  {
   "cell_type": "markdown",
   "id": "7da67619-8e87-4abb-ae29-da67e4c4498a",
   "metadata": {},
   "source": [
    "Create a New Variable x equal to 56"
   ]
  },
  {
   "cell_type": "code",
   "execution_count": 4,
   "id": "8a93fb8c-a32e-42b2-b913-f7b23bb6ed49",
   "metadata": {},
   "outputs": [],
   "source": [
    "x:56"
   ]
  },
  {
   "cell_type": "markdown",
   "id": "dff7b277-c5c0-41e3-8a08-3fedda662171",
   "metadata": {},
   "source": [
    "Define y as x Divided by 28 "
   ]
  },
  {
   "cell_type": "code",
   "execution_count": 33,
   "id": "8c5a6f8a-ba87-467b-a274-1297a0eb55ec",
   "metadata": {},
   "outputs": [],
   "source": [
    "y:x%28"
   ]
  },
  {
   "cell_type": "markdown",
   "id": "f4a33f8f-e26b-4a79-8c78-ac4b24007647",
   "metadata": {},
   "source": [
    "write a dyadic function,fxy which calculates the square of x divided the square of y."
   ]
  },
  {
   "cell_type": "code",
   "execution_count": 34,
   "id": "188eba17-e32c-4b6b-94c2-df800573acb3",
   "metadata": {},
   "outputs": [],
   "source": [
    "fxy:{[x;y](x*x)%(y*y)}"
   ]
  },
  {
   "cell_type": "code",
   "execution_count": 35,
   "id": "1b333309-8624-40a6-91f5-1a1aad3e8508",
   "metadata": {},
   "outputs": [
    {
     "data": {
      "text/plain": [
       "784f\n"
      ]
     },
     "execution_count": 35,
     "metadata": {},
     "output_type": "execute_result"
    }
   ],
   "source": [
    "fxy[x;y]"
   ]
  },
  {
   "cell_type": "markdown",
   "id": "80bea330-90e6-4f64-b6d7-eb5e768a1793",
   "metadata": {},
   "source": [
    "In a script, define a = 45.6, b = 9, and c as 21. Then define a function, fabc, which calculates the average of a, b, c. \n",
    "Load this script into q and run the command 'fabc'. Check to ensure it has been successful.\n"
   ]
  },
  {
   "cell_type": "code",
   "execution_count": 45,
   "id": "76319e57-ad1a-4c2d-959d-b3e039e506b1",
   "metadata": {},
   "outputs": [],
   "source": [
    "a:45\n",
    "b:9\n",
    "c:21"
   ]
  },
  {
   "cell_type": "code",
   "execution_count": 46,
   "id": "06c9c408-6fbe-46b3-9912-02cd293d47f6",
   "metadata": {},
   "outputs": [],
   "source": [
    "fabc:{[x;y;z] (x+y+z)%3}"
   ]
  },
  {
   "cell_type": "code",
   "execution_count": 47,
   "id": "195119cc-a9fd-4f5b-8254-58b9a88b3eda",
   "metadata": {},
   "outputs": [
    {
     "data": {
      "text/plain": [
       "25f\n"
      ]
     },
     "execution_count": 47,
     "metadata": {},
     "output_type": "execute_result"
    }
   ],
   "source": [
    "fabc[a;b;c]"
   ]
  },
  {
   "cell_type": "markdown",
   "id": "3cd83057-9d9e-40b1-af2d-61c7cda2a8af",
   "metadata": {},
   "source": [
    "Return a list of all functions defined in the current workspace"
   ]
  },
  {
   "cell_type": "code",
   "execution_count": 48,
   "id": "9b269da9-f43c-48a8-97dd-cf507ca69b85",
   "metadata": {},
   "outputs": [
    {
     "data": {
      "text/plain": [
       "`fabc`fxy`help`print\n"
      ]
     },
     "execution_count": 48,
     "metadata": {},
     "output_type": "execute_result"
    }
   ],
   "source": [
    "\\f"
   ]
  },
  {
   "cell_type": "markdown",
   "id": "d873e1a8-1e55-4b18-a128-07f51f56270c",
   "metadata": {},
   "source": [
    "Calculate 100-2*(44*(10+2)/2) using as few characters as possible."
   ]
  },
  {
   "cell_type": "code",
   "execution_count": 56,
   "id": "fdd2e488-e2ee-4652-b738-6bb1e9731f43",
   "metadata": {},
   "outputs": [
    {
     "data": {
      "text/plain": [
       "71f\n"
      ]
     },
     "execution_count": 56,
     "metadata": {},
     "output_type": "execute_result"
    }
   ],
   "source": [
    "100-2*4+10+1%2"
   ]
  },
  {
   "cell_type": "markdown",
   "id": "6b585292-97f8-4f63-ab2d-2ef415f293f9",
   "metadata": {},
   "source": [
    "Calculate ((100-2)*(4*(10+1)))/2 using as few characters as possible."
   ]
  },
  {
   "cell_type": "code",
   "execution_count": 50,
   "id": "549d37ff-3e0f-490f-8428-e3d956959422",
   "metadata": {},
   "outputs": [
    {
     "data": {
      "text/plain": [
       "2156f\n"
      ]
     },
     "execution_count": 50,
     "metadata": {},
     "output_type": "execute_result"
    }
   ],
   "source": [
    "((100-2)*(4*(10+1)))%2"
   ]
  },
  {
   "cell_type": "markdown",
   "id": "f13e31ca-7707-4712-a6d4-23d61468ba20",
   "metadata": {},
   "source": [
    "Compare the datatype values of 3, 3f, 31.2, 3 1 2f, and (3f;1;2):"
   ]
  },
  {
   "cell_type": "code",
   "execution_count": 57,
   "id": "91954d98-cbe7-4815-a260-b2a0199dcd14",
   "metadata": {},
   "outputs": [
    {
     "data": {
      "text/plain": [
       "-7h\n"
      ]
     },
     "execution_count": 57,
     "metadata": {},
     "output_type": "execute_result"
    }
   ],
   "source": [
    "type 3"
   ]
  },
  {
   "cell_type": "code",
   "execution_count": 58,
   "id": "d1e28e50-ee3c-4263-bec8-30a75665039a",
   "metadata": {},
   "outputs": [
    {
     "data": {
      "text/plain": [
       "-9h\n"
      ]
     },
     "execution_count": 58,
     "metadata": {},
     "output_type": "execute_result"
    }
   ],
   "source": [
    "type 3f"
   ]
  },
  {
   "cell_type": "code",
   "execution_count": 59,
   "id": "41fceafe-4b8a-4942-9dfc-68dab0d04ce5",
   "metadata": {},
   "outputs": [
    {
     "data": {
      "text/plain": [
       "-9h\n"
      ]
     },
     "execution_count": 59,
     "metadata": {},
     "output_type": "execute_result"
    }
   ],
   "source": [
    "type 31.2"
   ]
  },
  {
   "cell_type": "code",
   "execution_count": 60,
   "id": "c89de710-534d-4b4f-b15f-3df7dd08502b",
   "metadata": {},
   "outputs": [
    {
     "data": {
      "text/plain": [
       "9h\n"
      ]
     },
     "execution_count": 60,
     "metadata": {},
     "output_type": "execute_result"
    }
   ],
   "source": [
    "type 3 1 2f"
   ]
  },
  {
   "cell_type": "code",
   "execution_count": 62,
   "id": "d2db29c6-5165-43e5-9ffd-4da7b5938c8c",
   "metadata": {},
   "outputs": [
    {
     "data": {
      "text/plain": [
       "@:[(3f;1;2)]\n"
      ]
     },
     "execution_count": 62,
     "metadata": {},
     "output_type": "execute_result"
    }
   ],
   "source": [
    "type (3f;1;2):"
   ]
  },
  {
   "cell_type": "markdown",
   "id": "143f5f96-557d-4428-9eaf-689fd859d763",
   "metadata": {},
   "source": [
    "Cast \"12:30:00\" to time/minute/second:"
   ]
  },
  {
   "cell_type": "code",
   "execution_count": 63,
   "id": "84229af1-8056-4a83-a5d3-867e16f98751",
   "metadata": {},
   "outputs": [
    {
     "data": {
      "text/plain": [
       "12:30:00.000\n"
      ]
     },
     "execution_count": 63,
     "metadata": {},
     "output_type": "execute_result"
    }
   ],
   "source": [
    "\"T\"$\"12:30:00\""
   ]
  },
  {
   "cell_type": "code",
   "execution_count": 66,
   "id": "48c45b5f-0c25-4065-a2bb-ffaf9fde28cd",
   "metadata": {},
   "outputs": [
    {
     "data": {
      "text/plain": [
       "00:00:00.049 00:00:00.050 00:00:00.058 00:00:00.051 00:00:00.048 00:00:00.058..\n"
      ]
     },
     "execution_count": 66,
     "metadata": {},
     "output_type": "execute_result"
    }
   ],
   "source": [
    "\"t\"$\"12:30:00\""
   ]
  },
  {
   "cell_type": "code",
   "execution_count": 67,
   "id": "044bde67-a3a7-48c4-be81-ce2e598a8a4b",
   "metadata": {},
   "outputs": [
    {
     "data": {
      "text/plain": [
       "00:00:49 00:00:50 00:00:58 00:00:51 00:00:48 00:00:58 00:00:48 00:00:48\n"
      ]
     },
     "execution_count": 67,
     "metadata": {},
     "output_type": "execute_result"
    }
   ],
   "source": [
    "\"v\"$\"12:30:00\""
   ]
  },
  {
   "cell_type": "markdown",
   "id": "91c04bcf-b30b-458c-a41f-81dacd2117c7",
   "metadata": {},
   "source": [
    "Extract Month,Year and Week "
   ]
  },
  {
   "cell_type": "code",
   "execution_count": 68,
   "id": "d99b657d-ef68-49f4-a9e1-f73d0b6a833c",
   "metadata": {},
   "outputs": [],
   "source": [
    "date:2023.12.25"
   ]
  },
  {
   "cell_type": "code",
   "execution_count": 69,
   "id": "dd2f950d-2a83-46f6-b804-4ae1e0edc82d",
   "metadata": {},
   "outputs": [
    {
     "data": {
      "text/plain": [
       "2023.12.25\n"
      ]
     },
     "execution_count": 69,
     "metadata": {},
     "output_type": "execute_result"
    }
   ],
   "source": [
    "`week$date"
   ]
  },
  {
   "cell_type": "code",
   "execution_count": 70,
   "id": "31e44c78-0253-44cf-ae77-976991deb5ee",
   "metadata": {},
   "outputs": [
    {
     "data": {
      "text/plain": [
       "2023.12m\n"
      ]
     },
     "execution_count": 70,
     "metadata": {},
     "output_type": "execute_result"
    }
   ],
   "source": [
    "`month$date"
   ]
  },
  {
   "cell_type": "code",
   "execution_count": 71,
   "id": "09cdd078-502f-49c3-af1d-713f1aaabfe3",
   "metadata": {},
   "outputs": [
    {
     "data": {
      "text/plain": [
       "2023i\n"
      ]
     },
     "execution_count": 71,
     "metadata": {},
     "output_type": "execute_result"
    }
   ],
   "source": [
    "`year$date"
   ]
  },
  {
   "cell_type": "markdown",
   "id": "dbc0f07f-93c4-42d3-a022-c4074ccada8a",
   "metadata": {},
   "source": [
    "Get the Current time/minute/hour/date"
   ]
  },
  {
   "cell_type": "code",
   "execution_count": 72,
   "id": "5f679d01-0a08-4fbd-825a-ab34fec8d095",
   "metadata": {},
   "outputs": [],
   "source": [
    "cd:.z.z"
   ]
  },
  {
   "cell_type": "code",
   "execution_count": 73,
   "id": "ef36b5c4-e1b9-4c7d-ba5a-b31cfbacf298",
   "metadata": {},
   "outputs": [
    {
     "data": {
      "text/plain": [
       "2024.12.25T10:51:51.330\n"
      ]
     },
     "execution_count": 73,
     "metadata": {},
     "output_type": "execute_result"
    }
   ],
   "source": [
    "cd"
   ]
  },
  {
   "cell_type": "code",
   "execution_count": 74,
   "id": "bd1b52cf-9bbf-452d-826d-5f9bfa948c70",
   "metadata": {},
   "outputs": [
    {
     "data": {
      "text/plain": [
       "2024.12.25\n"
      ]
     },
     "execution_count": 74,
     "metadata": {},
     "output_type": "execute_result"
    }
   ],
   "source": [
    "cd.date"
   ]
  },
  {
   "cell_type": "code",
   "execution_count": 75,
   "id": "e0e09cbe-f6a7-4fde-83b5-f0a28356615a",
   "metadata": {},
   "outputs": [
    {
     "data": {
      "text/plain": [
       "10:51\n"
      ]
     },
     "execution_count": 75,
     "metadata": {},
     "output_type": "execute_result"
    }
   ],
   "source": [
    "cd.minute"
   ]
  },
  {
   "cell_type": "code",
   "execution_count": 76,
   "id": "a0bb03d8-af27-47d5-836e-00acad0e9253",
   "metadata": {},
   "outputs": [
    {
     "data": {
      "text/plain": [
       "10:51:51\n"
      ]
     },
     "execution_count": 76,
     "metadata": {},
     "output_type": "execute_result"
    }
   ],
   "source": [
    "cd.second"
   ]
  },
  {
   "cell_type": "code",
   "execution_count": 77,
   "id": "fefbd932-b4b8-4fd0-8a2c-ba47a8cd71f1",
   "metadata": {},
   "outputs": [
    {
     "data": {
      "text/plain": [
       "10i\n"
      ]
     },
     "execution_count": 77,
     "metadata": {},
     "output_type": "execute_result"
    }
   ],
   "source": [
    "cd.hh"
   ]
  },
  {
   "cell_type": "markdown",
   "id": "b80c263a-e8ea-45ac-8850-a8782795d7b2",
   "metadata": {},
   "source": [
    "Cast the string \"xyz\" to a symbol and concatenate to the end of the simple list alpha:`abc`def`ghi"
   ]
  },
  {
   "cell_type": "code",
   "execution_count": 6,
   "id": "b6558faf-89b8-43c3-863c-c91988d32387",
   "metadata": {},
   "outputs": [],
   "source": [
    "alpha:`abc`def`ghi"
   ]
  },
  {
   "cell_type": "code",
   "execution_count": 8,
   "id": "559af9ea-3616-4ee8-aa4d-a9701a8b4f68",
   "metadata": {},
   "outputs": [],
   "source": [
    "alpha:alpha,`$\"xyz\""
   ]
  },
  {
   "cell_type": "code",
   "execution_count": 9,
   "id": "fb98da30-758c-4ff1-903b-469da3acafef",
   "metadata": {},
   "outputs": [
    {
     "data": {
      "text/plain": [
       "`abc`def`ghi`xyz\n"
      ]
     },
     "execution_count": 9,
     "metadata": {},
     "output_type": "execute_result"
    }
   ],
   "source": [
    "alpha"
   ]
  },
  {
   "cell_type": "markdown",
   "id": "f0abff9d-d57e-427f-8ebb-8b8a488e2713",
   "metadata": {},
   "source": [
    "Replace the second item of the list alpha with jkl:"
   ]
  },
  {
   "cell_type": "code",
   "execution_count": 11,
   "id": "3d8551e6-e751-4bf5-aa6f-c355c227eb1a",
   "metadata": {},
   "outputs": [],
   "source": [
    "alpha[1]:`$\"jkl\""
   ]
  },
  {
   "cell_type": "code",
   "execution_count": 12,
   "id": "6c0f3c76-d729-4269-8849-5bb150eb1639",
   "metadata": {},
   "outputs": [
    {
     "data": {
      "text/plain": [
       "`abc`jkl`ghi`xyz\n"
      ]
     },
     "execution_count": 12,
     "metadata": {},
     "output_type": "execute_result"
    }
   ],
   "source": [
    "alpha"
   ]
  },
  {
   "cell_type": "markdown",
   "id": "312d57e1-cd23-4a47-b1ff-87b324d4125f",
   "metadata": {},
   "source": [
    "cast 1234 into string"
   ]
  },
  {
   "cell_type": "code",
   "execution_count": 13,
   "id": "435c0702-0f4f-46fc-8c88-ec0f7ae2bda6",
   "metadata": {},
   "outputs": [
    {
     "data": {
      "text/plain": [
       "\"1234\"\n"
      ]
     },
     "execution_count": 13,
     "metadata": {},
     "output_type": "execute_result"
    }
   ],
   "source": [
    "string 1234"
   ]
  },
  {
   "cell_type": "markdown",
   "id": "fd3c491e-8d81-492e-9c1b-02d3aa3d084b",
   "metadata": {},
   "source": [
    "Get \"o\" from \"hello\":"
   ]
  },
  {
   "cell_type": "code",
   "execution_count": 17,
   "id": "c9f4c1e8-d855-454a-916e-a68e9eb3ce71",
   "metadata": {},
   "outputs": [],
   "source": [
    "s:\"Hello\""
   ]
  },
  {
   "cell_type": "code",
   "execution_count": 19,
   "id": "5210a4a0-b43a-4c4f-a5ee-10a6c31abfcb",
   "metadata": {},
   "outputs": [
    {
     "data": {
      "text/plain": [
       "\"o\"\n"
      ]
     },
     "execution_count": 19,
     "metadata": {},
     "output_type": "execute_result"
    }
   ],
   "source": [
    "s[4]"
   ]
  },
  {
   "cell_type": "markdown",
   "id": "5592e399-e407-4510-b8d0-03e76e1befd7",
   "metadata": {},
   "source": [
    "Get the 1st, 3rd and 5th element of this list: x:(`abc\";10 5 0;2 3 3;(4 5));\"blah\";1 3"
   ]
  },
  {
   "cell_type": "code",
   "execution_count": 20,
   "id": "f479e9b4-0b5e-41fa-a4d5-0669f800853a",
   "metadata": {},
   "outputs": [],
   "source": [
    "x:(\"abc\";10 5 0;(2 3 3;(4 5));\"blah\";1 3)"
   ]
  },
  {
   "cell_type": "code",
   "execution_count": 21,
   "id": "bec813cc-fd34-4e9d-b668-91e7480b360d",
   "metadata": {},
   "outputs": [
    {
     "data": {
      "text/plain": [
       "\"abc\"\n",
       "(2 3 3;4 5)\n",
       "1 3\n"
      ]
     },
     "execution_count": 21,
     "metadata": {},
     "output_type": "execute_result"
    }
   ],
   "source": [
    "x[0 2 4]"
   ]
  },
  {
   "cell_type": "markdown",
   "id": "2ae5a0b3-907a-4991-ad84-b44b601c24bf",
   "metadata": {},
   "source": [
    "Get first and second element of each element of x by eliding an index:"
   ]
  },
  {
   "cell_type": "code",
   "execution_count": 22,
   "id": "31d593bb-2c21-4220-8d69-18a1e241f6e5",
   "metadata": {},
   "outputs": [
    {
     "data": {
      "text/plain": [
       "a     b  \n",
       "10    5  \n",
       "2 3 3 4 5\n",
       "b     l  \n",
       "1     3  \n"
      ]
     },
     "execution_count": 22,
     "metadata": {},
     "output_type": "execute_result"
    }
   ],
   "source": [
    "x[;0 1]"
   ]
  },
  {
   "cell_type": "markdown",
   "id": "b21bd695-1860-46d4-a4e0-256c3ff4e640",
   "metadata": {},
   "source": [
    "Replace the 3rd item of x with (4;5) using only indexing and assignment:"
   ]
  },
  {
   "cell_type": "code",
   "execution_count": 24,
   "id": "0cab636e-508d-4a6a-bfd1-8246a8c656ec",
   "metadata": {},
   "outputs": [],
   "source": [
    "x[2]:4 5"
   ]
  },
  {
   "cell_type": "code",
   "execution_count": 25,
   "id": "d0f0357a-6fcc-4645-806c-a3dac5a339e2",
   "metadata": {},
   "outputs": [
    {
     "data": {
      "text/plain": [
       "\"abc\"\n",
       "10 5 0\n",
       "4 5\n",
       "\"blah\"\n",
       "1 3\n"
      ]
     },
     "execution_count": 25,
     "metadata": {},
     "output_type": "execute_result"
    }
   ],
   "source": [
    "x"
   ]
  },
  {
   "cell_type": "markdown",
   "id": "c6d2b5ea-3892-4955-8400-c23522049b7b",
   "metadata": {},
   "source": [
    "Get (\"abc\";10 5 0;(10 5 0;\"ab\")) by indexing into the list x:"
   ]
  },
  {
   "cell_type": "code",
   "execution_count": 26,
   "id": "66bdde10-de18-4562-a8f0-83597931de9c",
   "metadata": {},
   "outputs": [
    {
     "data": {
      "text/plain": [
       "\"ab\"\n",
       "10 5 0\n",
       "(10 5 0;\"ab\")\n"
      ]
     },
     "execution_count": 26,
     "metadata": {},
     "output_type": "execute_result"
    }
   ],
   "source": [
    "((x[0] 0 1);x[1];reverse ((x[0]) 0 1;x[1]))"
   ]
  },
  {
   "cell_type": "markdown",
   "id": "b25ab63c-a01c-478e-a7f3-b122e135a395",
   "metadata": {},
   "source": [
    "Make a dictionary containing the following information:"
   ]
  },
  {
   "cell_type": "code",
   "execution_count": 32,
   "id": "615f7dee-1299-40ec-8bd1-58fe968b4080",
   "metadata": {},
   "outputs": [],
   "source": [
    "d:(`a`b`c)!(0 1 2;\"some text\";3.12)"
   ]
  },
  {
   "cell_type": "code",
   "execution_count": 33,
   "id": "b36c232d-092d-4a6d-aba8-cb7c77958400",
   "metadata": {},
   "outputs": [
    {
     "data": {
      "text/plain": [
       "a| 0 1 2\n",
       "b| \"some text\"\n",
       "c| 3.12\n"
      ]
     },
     "execution_count": 33,
     "metadata": {},
     "output_type": "execute_result"
    }
   ],
   "source": [
    "d"
   ]
  },
  {
   "cell_type": "markdown",
   "id": "535742d9-cba1-45f6-9800-146738b4200e",
   "metadata": {},
   "source": [
    "View values of entries in dictionary and look at shape, type:"
   ]
  },
  {
   "cell_type": "code",
   "execution_count": 34,
   "id": "5cb33491-bbc2-4b66-8b1f-436451567d85",
   "metadata": {},
   "outputs": [
    {
     "data": {
      "text/plain": [
       "99h\n"
      ]
     },
     "execution_count": 34,
     "metadata": {},
     "output_type": "execute_result"
    }
   ],
   "source": [
    "type d"
   ]
  },
  {
   "cell_type": "code",
   "execution_count": 35,
   "id": "3417e8bd-1b67-4715-9836-d1c25e955070",
   "metadata": {},
   "outputs": [
    {
     "data": {
      "text/plain": [
       "a| 3\n",
       "b| 9\n",
       "c| 1\n"
      ]
     },
     "execution_count": 35,
     "metadata": {},
     "output_type": "execute_result"
    }
   ],
   "source": [
    "count each d"
   ]
  },
  {
   "cell_type": "markdown",
   "id": "5130bfe1-9c7d-42a1-a1e4-1b19ab769925",
   "metadata": {},
   "source": [
    "Assign a new value of 2.1 to c and change the last item of a to 3:"
   ]
  },
  {
   "cell_type": "code",
   "execution_count": 36,
   "id": "cc9574af-664a-45dd-8088-3e8343db8df2",
   "metadata": {},
   "outputs": [],
   "source": [
    "d[`c]:2.1"
   ]
  },
  {
   "cell_type": "code",
   "execution_count": 38,
   "id": "a2b1826c-d6f1-4783-b7cd-c8d9b27ed746",
   "metadata": {},
   "outputs": [],
   "source": [
    "d[`a;2]:3"
   ]
  },
  {
   "cell_type": "markdown",
   "id": "ab50b4c2-0c1a-44bc-8817-80f963407513",
   "metadata": {},
   "source": [
    "We can represent a matrix using nested lists. Define m as the 3x3 matrix containing the values 1-9, going from left-to-right then top-to-bottom. That is:"
   ]
  },
  {
   "cell_type": "code",
   "execution_count": 39,
   "id": "471e93c7-2546-4a34-b0ae-d6af0e30ec1e",
   "metadata": {},
   "outputs": [
    {
     "data": {
      "text/plain": [
       "1 4 7\n"
      ]
     },
     "execution_count": 39,
     "metadata": {},
     "output_type": "execute_result"
    },
    {
     "data": {
      "text/plain": [
       "2 5 8\n"
      ]
     },
     "execution_count": 39,
     "metadata": {},
     "output_type": "execute_result"
    },
    {
     "data": {
      "text/plain": [
       "3 6 9\n"
      ]
     },
     "execution_count": 39,
     "metadata": {},
     "output_type": "execute_result"
    }
   ],
   "source": [
    "1 4 7\n",
    "2 5 8\n",
    "3 6 9"
   ]
  },
  {
   "cell_type": "code",
   "execution_count": 41,
   "id": "2e94d1e0-a96b-4d88-b29e-aa630c536b06",
   "metadata": {},
   "outputs": [],
   "source": [
    "m:flip 3 cut 1+til 9"
   ]
  },
  {
   "cell_type": "code",
   "execution_count": 42,
   "id": "471e04dd-b34b-48a2-917a-f51b4c421f3a",
   "metadata": {},
   "outputs": [
    {
     "data": {
      "text/plain": [
       "1 4 7\n",
       "2 5 8\n",
       "3 6 9\n"
      ]
     },
     "execution_count": 42,
     "metadata": {},
     "output_type": "execute_result"
    }
   ],
   "source": [
    "m"
   ]
  },
  {
   "cell_type": "markdown",
   "id": "ccc07a21-ea4b-421a-9798-64a486d62e50",
   "metadata": {},
   "source": [
    "Find the transpose of this matrix:"
   ]
  },
  {
   "cell_type": "code",
   "execution_count": 43,
   "id": "3f123d75-a59b-4a30-a14c-3d5c3e6eb900",
   "metadata": {},
   "outputs": [
    {
     "data": {
      "text/plain": [
       "1 2 3\n",
       "4 5 6\n",
       "7 8 9\n"
      ]
     },
     "execution_count": 43,
     "metadata": {},
     "output_type": "execute_result"
    }
   ],
   "source": [
    "flip m"
   ]
  },
  {
   "cell_type": "markdown",
   "id": "93681dcb-87a7-44c1-b3dc-4947b9d894d2",
   "metadata": {},
   "source": [
    "Replace the 8 in the matrix with another 2:"
   ]
  },
  {
   "cell_type": "code",
   "execution_count": 47,
   "id": "e3a2ee3a-ed37-4117-819f-e1bb046aed17",
   "metadata": {},
   "outputs": [],
   "source": [
    "m[1;2]:2"
   ]
  },
  {
   "cell_type": "code",
   "execution_count": 48,
   "id": "f37703b5-f196-445e-a5f0-3fd084e37c26",
   "metadata": {},
   "outputs": [
    {
     "data": {
      "text/plain": [
       "1 4 7\n",
       "2 5 2\n",
       "3 6 9\n"
      ]
     },
     "execution_count": 48,
     "metadata": {},
     "output_type": "execute_result"
    }
   ],
   "source": [
    "m"
   ]
  },
  {
   "cell_type": "code",
   "execution_count": null,
   "id": "d45e008d-512d-4376-a28b-bbb9387c2803",
   "metadata": {},
   "outputs": [],
   "source": []
  }
 ],
 "metadata": {
  "kernelspec": {
   "display_name": "Q (kdb+)",
   "language": "q",
   "name": "qpk"
  },
  "language_info": {
   "file_extension": ".q",
   "mimetype": "text/x-q",
   "name": "q",
   "version": "4.1.0"
  }
 },
 "nbformat": 4,
 "nbformat_minor": 5
}
